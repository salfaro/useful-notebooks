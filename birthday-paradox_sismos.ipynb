{
 "cells": [
  {
   "cell_type": "code",
   "execution_count": 1,
   "id": "df7a2e7a",
   "metadata": {},
   "outputs": [],
   "source": [
    "import random\n",
    "import pandas as pd"
   ]
  },
  {
   "cell_type": "code",
   "execution_count": 2,
   "id": "superior-affair",
   "metadata": {},
   "outputs": [],
   "source": [
    "def simulate(_randomlist, _num, _iteration):\n",
    "    for i in range(0,_num): \n",
    "        _randomlist.append([random.randrange(1,366),_iteration])\n",
    "    return _randomlist"
   ]
  },
  {
   "cell_type": "code",
   "execution_count": 3,
   "id": "2ab636b1",
   "metadata": {},
   "outputs": [],
   "source": [
    "iterations=10000\n",
    "\n",
    "num=123\n",
    "\n",
    "randomlist=[] "
   ]
  },
  {
   "cell_type": "code",
   "execution_count": 4,
   "id": "literary-figure",
   "metadata": {},
   "outputs": [],
   "source": [
    "for i in range(0,iterations):\n",
    "    simulate(randomlist, num, i)"
   ]
  },
  {
   "cell_type": "code",
   "execution_count": 5,
   "id": "velvet-might",
   "metadata": {},
   "outputs": [],
   "source": [
    "df = pd.DataFrame(randomlist, columns = ['day', 'iteration'])"
   ]
  },
  {
   "cell_type": "code",
   "execution_count": 6,
   "id": "generous-friendly",
   "metadata": {},
   "outputs": [],
   "source": [
    "df2 = pd.DataFrame(df.groupby([\"iteration\", \"day\"]).size().reset_index(name=\"times\"))"
   ]
  },
  {
   "cell_type": "code",
   "execution_count": 7,
   "id": "dutch-trauma",
   "metadata": {},
   "outputs": [
    {
     "data": {
      "text/html": [
       "<div>\n",
       "<style scoped>\n",
       "    .dataframe tbody tr th:only-of-type {\n",
       "        vertical-align: middle;\n",
       "    }\n",
       "\n",
       "    .dataframe tbody tr th {\n",
       "        vertical-align: top;\n",
       "    }\n",
       "\n",
       "    .dataframe thead th {\n",
       "        text-align: right;\n",
       "    }\n",
       "</style>\n",
       "<table border=\"1\" class=\"dataframe\">\n",
       "  <thead>\n",
       "    <tr style=\"text-align: right;\">\n",
       "      <th></th>\n",
       "      <th>iteration</th>\n",
       "      <th>day</th>\n",
       "      <th>times</th>\n",
       "    </tr>\n",
       "  </thead>\n",
       "  <tbody>\n",
       "    <tr>\n",
       "      <th>0</th>\n",
       "      <td>0</td>\n",
       "      <td>1</td>\n",
       "      <td>1</td>\n",
       "    </tr>\n",
       "    <tr>\n",
       "      <th>1</th>\n",
       "      <td>0</td>\n",
       "      <td>5</td>\n",
       "      <td>1</td>\n",
       "    </tr>\n",
       "    <tr>\n",
       "      <th>2</th>\n",
       "      <td>0</td>\n",
       "      <td>7</td>\n",
       "      <td>1</td>\n",
       "    </tr>\n",
       "    <tr>\n",
       "      <th>3</th>\n",
       "      <td>0</td>\n",
       "      <td>9</td>\n",
       "      <td>1</td>\n",
       "    </tr>\n",
       "    <tr>\n",
       "      <th>4</th>\n",
       "      <td>0</td>\n",
       "      <td>10</td>\n",
       "      <td>2</td>\n",
       "    </tr>\n",
       "    <tr>\n",
       "      <th>...</th>\n",
       "      <td>...</td>\n",
       "      <td>...</td>\n",
       "      <td>...</td>\n",
       "    </tr>\n",
       "    <tr>\n",
       "      <th>1045719</th>\n",
       "      <td>9999</td>\n",
       "      <td>348</td>\n",
       "      <td>1</td>\n",
       "    </tr>\n",
       "    <tr>\n",
       "      <th>1045720</th>\n",
       "      <td>9999</td>\n",
       "      <td>351</td>\n",
       "      <td>1</td>\n",
       "    </tr>\n",
       "    <tr>\n",
       "      <th>1045721</th>\n",
       "      <td>9999</td>\n",
       "      <td>354</td>\n",
       "      <td>1</td>\n",
       "    </tr>\n",
       "    <tr>\n",
       "      <th>1045722</th>\n",
       "      <td>9999</td>\n",
       "      <td>355</td>\n",
       "      <td>1</td>\n",
       "    </tr>\n",
       "    <tr>\n",
       "      <th>1045723</th>\n",
       "      <td>9999</td>\n",
       "      <td>362</td>\n",
       "      <td>1</td>\n",
       "    </tr>\n",
       "  </tbody>\n",
       "</table>\n",
       "<p>1045724 rows × 3 columns</p>\n",
       "</div>"
      ],
      "text/plain": [
       "         iteration  day  times\n",
       "0                0    1      1\n",
       "1                0    5      1\n",
       "2                0    7      1\n",
       "3                0    9      1\n",
       "4                0   10      2\n",
       "...            ...  ...    ...\n",
       "1045719       9999  348      1\n",
       "1045720       9999  351      1\n",
       "1045721       9999  354      1\n",
       "1045722       9999  355      1\n",
       "1045723       9999  362      1\n",
       "\n",
       "[1045724 rows x 3 columns]"
      ]
     },
     "execution_count": 7,
     "metadata": {},
     "output_type": "execute_result"
    }
   ],
   "source": [
    "df2"
   ]
  },
  {
   "cell_type": "code",
   "execution_count": 8,
   "id": "interstate-supplement",
   "metadata": {
    "scrolled": true
   },
   "outputs": [
    {
     "data": {
      "text/plain": [
       "1    880357\n",
       "2    147895\n",
       "3     16115\n",
       "4      1279\n",
       "5        76\n",
       "6         2\n",
       "Name: times, dtype: int64"
      ]
     },
     "execution_count": 8,
     "metadata": {},
     "output_type": "execute_result"
    }
   ],
   "source": [
    "df2.times.value_counts()"
   ]
  },
  {
   "cell_type": "code",
   "execution_count": 9,
   "id": "frozen-compact",
   "metadata": {},
   "outputs": [],
   "source": [
    "df3=df2[df2['times'] >= 3]"
   ]
  },
  {
   "cell_type": "code",
   "execution_count": 10,
   "id": "premier-analysis",
   "metadata": {},
   "outputs": [],
   "source": [
    "df4=pd.DataFrame(df3['iteration'].unique())"
   ]
  },
  {
   "cell_type": "code",
   "execution_count": 11,
   "id": "double-table",
   "metadata": {},
   "outputs": [
    {
     "data": {
      "text/plain": [
       "0    0.8433\n",
       "dtype: float64"
      ]
     },
     "execution_count": 11,
     "metadata": {},
     "output_type": "execute_result"
    }
   ],
   "source": [
    "df4.count()/iterations"
   ]
  },
  {
   "cell_type": "code",
   "execution_count": null,
   "id": "divine-spending",
   "metadata": {},
   "outputs": [],
   "source": []
  }
 ],
 "metadata": {
  "kernelspec": {
   "display_name": "lambda",
   "language": "python",
   "name": "lambda"
  },
  "language_info": {
   "codemirror_mode": {
    "name": "ipython",
    "version": 3
   },
   "file_extension": ".py",
   "mimetype": "text/x-python",
   "name": "python",
   "nbconvert_exporter": "python",
   "pygments_lexer": "ipython3",
   "version": "3.9.15"
  }
 },
 "nbformat": 4,
 "nbformat_minor": 5
}
