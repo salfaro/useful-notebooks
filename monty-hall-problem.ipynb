{
 "cells": [
  {
   "cell_type": "code",
   "execution_count": 1,
   "id": "unusual-celtic",
   "metadata": {},
   "outputs": [],
   "source": [
    "import random\n",
    "\n",
    "# Set up the doors and prizes\n",
    "doors = [\"goat\", \"goat\", \"car\"]"
   ]
  },
  {
   "cell_type": "code",
   "execution_count": 4,
   "id": "incomplete-xerox",
   "metadata": {},
   "outputs": [],
   "source": [
    "# Define a function to run the game\n",
    "def play_game(switch):\n",
    "    # Shuffle the doors\n",
    "    random.shuffle(doors)\n",
    "\n",
    "    # Choose a door\n",
    "    chosen_door = random.randint(0, 2)\n",
    "\n",
    "    # Monty reveals a goat\n",
    "    revealed_door = next(i for i in range(3) if i != chosen_door and doors[i] == \"goat\")\n",
    "\n",
    "    # Optionally switch doors\n",
    "    if switch:\n",
    "        chosen_door = next(i for i in range(3) if i != chosen_door and i != revealed_door)\n",
    "\n",
    "    # Check if the player won\n",
    "    if doors[chosen_door] == \"car\":\n",
    "        return True\n",
    "    else:\n",
    "        return False\n",
    "\n"
   ]
  },
  {
   "cell_type": "code",
   "execution_count": 5,
   "id": "blessed-generation",
   "metadata": {},
   "outputs": [
    {
     "name": "stdout",
     "output_type": "stream",
     "text": [
      "Wins without switching: 3307\n",
      "Wins with switching: 6632\n"
     ]
    }
   ],
   "source": [
    "# Run the game with and without switching\n",
    "wins_without_switching = 0\n",
    "wins_with_switching = 0\n",
    "\n",
    "for i in range(10000):\n",
    "    if play_game(False):\n",
    "        wins_without_switching += 1\n",
    "    if play_game(True):\n",
    "        wins_with_switching += 1\n",
    "\n",
    "# Print the results\n",
    "print(\"Wins without switching:\", wins_without_switching)\n",
    "print(\"Wins with switching:\", wins_with_switching)"
   ]
  },
  {
   "cell_type": "code",
   "execution_count": null,
   "id": "involved-score",
   "metadata": {},
   "outputs": [],
   "source": []
  }
 ],
 "metadata": {
  "kernelspec": {
   "display_name": "lambda",
   "language": "python",
   "name": "lambda"
  },
  "language_info": {
   "codemirror_mode": {
    "name": "ipython",
    "version": 3
   },
   "file_extension": ".py",
   "mimetype": "text/x-python",
   "name": "python",
   "nbconvert_exporter": "python",
   "pygments_lexer": "ipython3",
   "version": "3.9.16"
  }
 },
 "nbformat": 4,
 "nbformat_minor": 5
}
